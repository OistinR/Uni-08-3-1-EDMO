{
 "cells": [
  {
   "cell_type": "markdown",
   "metadata": {},
   "source": [
    "taken from :https://medium.com/@chand.shelvin/pybullet-getting-started-a068a0e3d492"
   ]
  },
  {
   "cell_type": "code",
   "execution_count": 3,
   "metadata": {},
   "outputs": [],
   "source": [
    "import pybullet as p\n",
    "import time\n",
    "import pybullet_data"
   ]
  },
  {
   "cell_type": "code",
   "execution_count": 4,
   "metadata": {},
   "outputs": [
    {
     "name": "stdout",
     "output_type": "stream",
     "text": [
      "start\n",
      "(0.0, 0.0, 3.0) (0.0, 0.0, 0.0, 1.0)\n",
      "(-4.147575918849936e-05, -0.11093897573922741, 0.2681423473336947) (0.19776426469489153, 1.565666035077667e-06, 6.988074504378331e-06, 0.9802496088029846)\n"
     ]
    }
   ],
   "source": [
    "physicsClient = p.connect(p.GUI)# p.DIRECT for non-graphical version\n",
    "p.setAdditionalSearchPath(pybullet_data.getDataPath()) # optionally\n",
    "p.setGravity(0,0,-10)\n",
    "\n",
    "for i in range(0,1,1):\n",
    "   planeId = p.loadURDF('plane.urdf')\n",
    "   cubeStartPos = [0,0,3]\n",
    "   cubeStartOrientation = p.getQuaternionFromEuler([0,0,0])\n",
    "   boxId = p.loadURDF('robot.urdf',cubeStartPos, cubeStartOrientation)\n",
    "   cubePos, cubeOrn = p.getBasePositionAndOrientation(boxId)\n",
    "   print(\"start\")\n",
    "   print(cubePos,cubeOrn)\n",
    "\n",
    "   for i in range (500):\n",
    "      p.stepSimulation()\n",
    "      time.sleep(1./240.)\n",
    "\n",
    "   cubePos, cubeOrn = p.getBasePositionAndOrientation(boxId)\n",
    "   print(cubePos,cubeOrn)\n",
    "p.disconnect()"
   ]
  },
  {
   "cell_type": "markdown",
   "metadata": {},
   "source": [
    "http://www.mymodelrobot.appspot.com/5674976526991360\n",
    "https://wiki.ros.org/urdf/XML/link"
   ]
  }
 ],
 "metadata": {
  "kernelspec": {
   "display_name": "Python 3",
   "language": "python",
   "name": "python3"
  },
  "language_info": {
   "codemirror_mode": {
    "name": "ipython",
    "version": 3
   },
   "file_extension": ".py",
   "mimetype": "text/x-python",
   "name": "python",
   "nbconvert_exporter": "python",
   "pygments_lexer": "ipython3",
   "version": "3.8.0"
  }
 },
 "nbformat": 4,
 "nbformat_minor": 2
}
