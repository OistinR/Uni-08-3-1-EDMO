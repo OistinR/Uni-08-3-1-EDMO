{
 "cells": [
  {
   "cell_type": "markdown",
   "metadata": {},
   "source": [
    "adapted from :https://medium.com/@chand.shelvin/pybullet-getting-started-a068a0e3d492"
   ]
  },
  {
   "cell_type": "markdown",
   "metadata": {},
   "source": [
    "http://www.mymodelrobot.appspot.com/5674976526991360\n",
    "\n",
    "https://wiki.ros.org/urdf/XML/link\n",
    "\n",
    "https://www.programcreek.com/python/example/122099/pybullet.setJointMotorControl2"
   ]
  },
  {
   "cell_type": "code",
   "execution_count": 27,
   "metadata": {},
   "outputs": [],
   "source": [
    "import pybullet as p\n",
    "import time\n",
    "import pybullet_data"
   ]
  },
  {
   "cell_type": "code",
   "execution_count": 26,
   "metadata": {},
   "outputs": [],
   "source": [
    "import random as r\n",
    "from urdfpy import URDF\n",
    "import urdfpy\n",
    "import numpy as np"
   ]
  },
  {
   "cell_type": "code",
   "execution_count": 30,
   "metadata": {},
   "outputs": [
    {
     "name": "stdout",
     "output_type": "stream",
     "text": [
      "start\n",
      "(0.0, 0.0, 1.0) (0.0, 0.0, 0.0, 1.0)\n",
      "(-0.11113194030165471, -0.008329735254868794, 0.2174921530692237) (0.008226794146440262, -0.10610485923263989, 0.07686680089920954, 0.9913453352010162)\n"
     ]
    }
   ],
   "source": [
    "physicsClient = p.connect(p.GUI)# p.DIRECT for non-graphical version\n",
    "p.setAdditionalSearchPath(pybullet_data.getDataPath()) # optionally\n",
    "p.setGravity(0,0,-9.8)   \n",
    "planeId = p.loadURDF('plane.urdf')\n",
    "cubeStartPos = [0,0,1]\n",
    "cubeStartOrientation = p.getQuaternionFromEuler([0,0,0])\n",
    "boxId = p.loadURDF('Models/Model_0.urdf',cubeStartPos, cubeStartOrientation)\n",
    "p.setJointMotorControl2(boxId,0,p.POSITION_CONTROL,1)\n",
    "p.setJointMotorControl2(boxId,1,p.POSITION_CONTROL,-1)\n",
    "p.setJointMotorControl2(boxId,2,p.POSITION_CONTROL,1)\n",
    "cubePos, cubeOrn = p.getBasePositionAndOrientation(boxId)\n",
    "print(\"start\")\n",
    "print(cubePos,cubeOrn)\n",
    "p.resetDebugVisualizerCamera( cameraDistance=3.5, cameraYaw=30, cameraPitch=52, cameraTargetPosition=cubePos)\n",
    "for i in range (300):\n",
    "   p.stepSimulation()\n",
    "   time.sleep(1./200.)\n",
    "cubePos, cubeOrn = p.getBasePositionAndOrientation(boxId)\n",
    "print(cubePos,cubeOrn)\n",
    " "
   ]
  },
  {
   "cell_type": "code",
   "execution_count": 31,
   "metadata": {},
   "outputs": [],
   "source": [
    "p.disconnect()"
   ]
  },
  {
   "cell_type": "code",
   "execution_count": 11,
   "metadata": {},
   "outputs": [],
   "source": [
    "def create_base_link(xyz_rpy):\n",
    "    col = urdfpy.Collision(name=None,origin=urdfpy.xyz_rpy_to_matrix(xyz_rpy),geometry=urdfpy.Geometry(urdfpy.Box([.67,.67,.3]),None,None,None))\n",
    "    vis = urdfpy.Visual(urdfpy.Geometry(urdfpy.Box([.67,.67,.3]),None,None,None))    \n",
    "    return urdfpy.Link(\"base_link\",collisions=[col],inertial=None,visuals=[vis])\n",
    "\n",
    "def create_arm_link(name,xyz_rpy):\n",
    "    col = urdfpy.Collision(name=None,origin=urdfpy.xyz_rpy_to_matrix(xyz_rpy),geometry=urdfpy.Geometry(urdfpy.Box([.67,.67,.3]),None,None,None))\n",
    "    vis = urdfpy.Visual(urdfpy.Geometry(urdfpy.Box([.67,.67,.3]),None,None,None),origin=urdfpy.xyz_rpy_to_matrix(xyz_rpy))    \n",
    "    return urdfpy.Link(name,collisions=[col],inertial=urdfpy.Inertial(1,[[0, 0, 0],[0, 0, 0],[0, 0, 0]],urdfpy.xyz_rpy_to_matrix(xyz_rpy)),visuals=[vis])\n",
    "\n",
    "def create_joint(parent,child,xyz_rpy,name):\n",
    "    child.origin = xyz_rpy\n",
    "    return urdfpy.Joint(name,joint_type=\"revolute\",parent=parent.name,child=child.name,limit=urdfpy.JointLimit(1,1,-1,1),origin=xyz_rpy)\n"
   ]
  },
  {
   "cell_type": "code",
   "execution_count": null,
   "metadata": {},
   "outputs": [],
   "source": [
    "arm1 = create_arm_link(\"test\",[0,.34,0,0,0,0])\n",
    "base = create_base_link([0,0,0,0,0,0])\n",
    "\n",
    "\n",
    "# robot = URDF(\"test\",links=[base,arm1], joints=[joint1])\n",
    "\n",
    "# robot.save(\"robotTest.urdf\")"
   ]
  },
  {
   "cell_type": "code",
   "execution_count": 25,
   "metadata": {},
   "outputs": [],
   "source": [
    "def generateModels(amountOfModelsToBeGenerated, amountOfMotorOnEachModel):\n",
    "    for i in range(0,amountOfModelsToBeGenerated):\n",
    "        jointList = []\n",
    "        linksList = []\n",
    "        base = create_base_link([0,0,0,0,0,0])\n",
    "        linksList.append(base)\n",
    "        for j in range(amountOfMotorOnEachModel):\n",
    "            x =r.uniform(-.7,.7) \n",
    "            y = r.uniform(-.7,.7)\n",
    "            z = r.uniform(-.1,.1)\n",
    "            pitch = r.uniform(-1,1) \n",
    "            yaw = r.uniform(-1,1) \n",
    "            roll = r.uniform(-1,1) \n",
    "            arm1 = create_arm_link(\"arm\"+str(j),[x,y,z,pitch,yaw,roll])\n",
    "            linksList.append(arm1)\n",
    "            jointList.append(create_joint(base,arm1,[x,y,z,pitch,yaw,roll],str(j)))\n",
    "        robot = URDF(\"Model_\"+str(i),links=linksList, joints=jointList)\n",
    "        robot.save(\"Models/Model_\"+str(i)+\".urdf\")\n",
    "generateModels(2,3)"
   ]
  },
  {
   "cell_type": "markdown",
   "metadata": {},
   "source": [
    "https://urdfpy.readthedocs.io/en/latest/generated/urdfpy.Link.html#urdfpy.Link\n",
    "\n",
    "https://urdfpy.readthedocs.io/en/latest/examples/index.html#loading-from-a-file\n"
   ]
  }
 ],
 "metadata": {
  "kernelspec": {
   "display_name": "Python 3",
   "language": "python",
   "name": "python3"
  },
  "language_info": {
   "codemirror_mode": {
    "name": "ipython",
    "version": 3
   },
   "file_extension": ".py",
   "mimetype": "text/x-python",
   "name": "python",
   "nbconvert_exporter": "python",
   "pygments_lexer": "ipython3",
   "version": "3.8.0"
  }
 },
 "nbformat": 4,
 "nbformat_minor": 2
}
