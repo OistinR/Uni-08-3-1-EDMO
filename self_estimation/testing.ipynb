{
 "cells": [
  {
   "cell_type": "markdown",
   "metadata": {},
   "source": [
    "adapted from :https://medium.com/@chand.shelvin/pybullet-getting-started-a068a0e3d492"
   ]
  },
  {
   "cell_type": "markdown",
   "metadata": {},
   "source": [
    "http://www.mymodelrobot.appspot.com/5674976526991360\n",
    "\n",
    "https://wiki.ros.org/urdf/XML/link\n",
    "\n",
    "https://www.programcreek.com/python/example/122099/pybullet.setJointMotorControl2"
   ]
  },
  {
   "cell_type": "code",
   "execution_count": 1,
   "metadata": {},
   "outputs": [],
   "source": [
    "import pybullet as p\n",
    "import time\n",
    "import pybullet_data"
   ]
  },
  {
   "cell_type": "code",
   "execution_count": 2,
   "metadata": {},
   "outputs": [],
   "source": [
    "import random as r\n",
    "from urdfpy import URDF\n",
    "import urdfpy"
   ]
  },
  {
   "cell_type": "code",
   "execution_count": 9,
   "metadata": {},
   "outputs": [
    {
     "name": "stdout",
     "output_type": "stream",
     "text": [
      "start\n",
      "(0.0, 0.0, 1.0) (0.0, 0.0, 0.0, 1.0)\n",
      "(0.14550052363607713, -2.8436008313057455, 1.337789508614509) (-0.11108261506922239, -0.2476787203253554, 0.293414001545953, 0.9166374025884875)\n"
     ]
    }
   ],
   "source": [
    "\n",
    "for i in range(0,1,1):\n",
    "   physicsClient = p.connect(p.GUI)# p.DIRECT for non-graphical version\n",
    "   p.setAdditionalSearchPath(pybullet_data.getDataPath()) # optionally\n",
    "   p.setGravity(0,0,-9.8)   \n",
    "   planeId = p.loadURDF('plane.urdf')\n",
    "   cubeStartPos = [0,0,1]\n",
    "   cubeStartOrientation = p.getQuaternionFromEuler([0,0,0])\n",
    "   boxId = p.loadURDF('starfish.urdf',cubeStartPos, cubeStartOrientation)\n",
    "   p.setJointMotorControl2(boxId,0,p.POSITION_CONTROL,1)\n",
    "   p.setJointMotorControl2(boxId,1,p.POSITION_CONTROL,-1)\n",
    "   p.setJointMotorControl2(boxId,2,p.POSITION_CONTROL,1)\n",
    "   p.setJointMotorControl2(boxId,3,p.POSITION_CONTROL,-1)\n",
    "\n",
    "\n",
    "   cubePos, cubeOrn = p.getBasePositionAndOrientation(boxId)\n",
    "   print(\"start\")\n",
    "   print(cubePos,cubeOrn)\n",
    "\n",
    "   p.resetDebugVisualizerCamera( cameraDistance=3.5, cameraYaw=30, cameraPitch=52, cameraTargetPosition=cubePos)\n",
    "\n",
    "   for i in range (300):\n",
    "      p.stepSimulation()\n",
    "      time.sleep(1./200.)\n",
    "\n",
    "   cubePos, cubeOrn = p.getBasePositionAndOrientation(boxId)\n",
    "   print(cubePos,cubeOrn)\n",
    " "
   ]
  },
  {
   "cell_type": "code",
   "execution_count": 10,
   "metadata": {},
   "outputs": [],
   "source": [
    "p.disconnect()"
   ]
  },
  {
   "cell_type": "code",
   "execution_count": 58,
   "metadata": {},
   "outputs": [],
   "source": [
    "def create_base_link(xyz_rpy):\n",
    "    col = urdfpy.Collision(name=None,origin=urdfpy.xyz_rpy_to_matrix(xyz_rpy),geometry=urdfpy.Geometry(urdfpy.Box([.67,.67,.3]),None,None,None))\n",
    "    vis = urdfpy.Visual(urdfpy.Geometry(urdfpy.Box([.67,.67,.3]),None,None,None))    \n",
    "    return urdfpy.Link(\"base_link\",collisions=[col],inertial=None,visuals=[vis])\n",
    "\n",
    "def create_arm_link(name,xyz_rpy):\n",
    "    col = urdfpy.Collision(name=None,origin=urdfpy.xyz_rpy_to_matrix(xyz_rpy),geometry=urdfpy.Geometry(urdfpy.Box([.67,.67,.3]),None,None,None))\n",
    "    vis = urdfpy.Visual(urdfpy.Geometry(urdfpy.Box([.68,.67,.3]),None,None,None),origin=urdfpy.xyz_rpy_to_matrix(xyz_rpy))    \n",
    "    return urdfpy.Link(name,collisions=[col],inertial=urdfpy.Inertial(1,[[0, 0, 0],[0, 0, 0],[0, 0, 0]],urdfpy.xyz_rpy_to_matrix(xyz_rpy)),visuals=[vis])\n",
    "\n",
    "def create_joint(parent,child,xyz_rpy):\n",
    "    child.origin = xyz_rpy\n",
    "    return urdfpy.Joint(\"name\",joint_type=\"revolute\",parent=parent.name,child=child.name,limit=urdfpy.JointLimit(1,1,-1,1),origin=xyz_rpy)\n",
    "\n",
    "arm1 = create_arm_link(\"test\",[0,.34,0,0,0,0])\n",
    "base = create_base_link([0,0,0,0,0,0])\n",
    "\n",
    "\n",
    "\n",
    "robot = URDF(\"test\",links=[base,arm1], joints=[create_joint(base,arm1,[0,.34,0,0,0,0])])\n",
    "\n",
    "robot.save(\"robotTest.urdf\")"
   ]
  },
  {
   "cell_type": "markdown",
   "metadata": {},
   "source": [
    "https://urdfpy.readthedocs.io/en/latest/generated/urdfpy.Link.html#urdfpy.Link\n",
    "\n",
    "https://urdfpy.readthedocs.io/en/latest/examples/index.html#loading-from-a-file\n"
   ]
  }
 ],
 "metadata": {
  "kernelspec": {
   "display_name": "Python 3",
   "language": "python",
   "name": "python3"
  },
  "language_info": {
   "codemirror_mode": {
    "name": "ipython",
    "version": 3
   },
   "file_extension": ".py",
   "mimetype": "text/x-python",
   "name": "python",
   "nbconvert_exporter": "python",
   "pygments_lexer": "ipython3",
   "version": "3.8.0"
  }
 },
 "nbformat": 4,
 "nbformat_minor": 2
}
