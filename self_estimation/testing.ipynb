{
 "cells": [
  {
   "cell_type": "markdown",
   "metadata": {},
   "source": [
    "adapted from :https://medium.com/@chand.shelvin/pybullet-getting-started-a068a0e3d492"
   ]
  },
  {
   "cell_type": "markdown",
   "metadata": {},
   "source": [
    "http://www.mymodelrobot.appspot.com/5674976526991360\n",
    "\n",
    "https://wiki.ros.org/urdf/XML/link\n",
    "\n",
    "https://www.programcreek.com/python/example/122099/pybullet.setJointMotorControl2"
   ]
  },
  {
   "cell_type": "code",
   "execution_count": 99,
   "metadata": {},
   "outputs": [],
   "source": [
    "import pybullet as p\n",
    "import time\n",
    "import pybullet_data\n",
    "import math\n",
    "from sklearn.metrics.pairwise import cosine_similarity\n",
    "from sklearn.metrics import mean_squared_error"
   ]
  },
  {
   "cell_type": "code",
   "execution_count": 93,
   "metadata": {},
   "outputs": [],
   "source": [
    "import random as r\n",
    "from urdfpy import URDF\n",
    "import urdfpy\n",
    "import numpy as np"
   ]
  },
  {
   "cell_type": "code",
   "execution_count": 52,
   "metadata": {},
   "outputs": [
    {
     "name": "stdout",
     "output_type": "stream",
     "text": [
      "(0.00031439727782053633, -0.020131218691226187, 0.46698282496745397) (0.11071366557071198, 1.4306856382682968e-05, 0.00012585081957326537, 0.9938523372276092)\n",
      "(-0.0002833563121864383, 0.020099923695879058, 0.46697881508630684) (-0.1107156715211334, 5.1359029875874616e-05, 0.00012322408656520903, 0.9938521128707727)\n",
      "(-0.020099633433193962, -0.00038686368601430974, 0.4669986483811819) (0.00010303414843149941, -0.1107057358071606, 0.00013083062332979652, 0.9938532146784591)\n",
      "(0.020107879904122654, 0.0002880717024984953, 0.4670239428236519) (7.442984885374358e-05, 0.11069317401764413, 0.00011865797329432217, 0.9938546179428772)\n"
     ]
    }
   ],
   "source": [
    "for i in range(0,8,2):\n",
    "   physicsClient = p.connect(p.GUI)# p.DIRECT for non-graphical version\n",
    "   p.setAdditionalSearchPath(pybullet_data.getDataPath()) # optionally\n",
    "   p.setGravity(0,0,-9.8)   \n",
    "   planeId = p.loadURDF('plane.urdf')\n",
    "   cubeStartPos = [0,0,1]\n",
    "   cubeStartOrientation = p.getQuaternionFromEuler([0,0,0])\n",
    "   # boxId = p.loadURDF('Models/Model_24.urdf',cubeStartPos, cubeStartOrientation)\n",
    "\n",
    "   boxId = p.loadURDF('STARFISH2.0.urdf',cubeStartPos, cubeStartOrientation)\n",
    "   # p.setJointMotorControl2(boxId,0,p.POSITION_CONTROL,-1)\n",
    "   # p.setJointMotorControl2(boxId,1,p.POSITION_CONTROL,-1)\n",
    "   \n",
    "   p.setJointMotorControl2(boxId,(i+1),p.POSITION_CONTROL,-1.57)\n",
    "   \n",
    "   \n",
    "   cubePos, cubeOrn = p.getBasePositionAndOrientation(boxId)\n",
    "   # print(cubePos,cubeOrn)\n",
    "   p.resetDebugVisualizerCamera( cameraDistance=3.5, cameraYaw=30, cameraPitch=52, cameraTargetPosition=cubePos)\n",
    "   for i in range (300):\n",
    "      p.stepSimulation()\n",
    "      time.sleep(1./200.)\n",
    "   cubePos, cubeOrn = p.getBasePositionAndOrientation(boxId)\n",
    "   print(cubePos,cubeOrn)\n",
    "   p.disconnect()"
   ]
  },
  {
   "cell_type": "code",
   "execution_count": 37,
   "metadata": {},
   "outputs": [],
   "source": [
    "# 4 legged starfish.[[0.10038424283224191, -2.5319705873951107e-05, -0.0004969729635007379, 0.9949486198632488],[-0.10038085877465497, -2.5816714159629625e-05, 0.0005083451955946118, 0.9949489555300424],[1.9557973627556364e-05, -0.10061859289800221, 0.0004570184810641759, 0.994924966776299],[-2.9342634783195095e-05, 0.1007576192581765, 0.0002754417050166459, 0.9949109635702591]]\n",
    "[list(0.11071366557071198, 1.4306856382682968e-05, 0.00012585081957326537, 0.9938523372276092),list(-0.1107156715211334, 5.1359029875874616e-05, 0.00012322408656520903, 0.9938521128707727),list(0.00010303414843149941, -0.1107057358071606, 0.00013083062332979652, 0.9938532146784591),list(7.442984885374358e-05, 0.11069317401764413, 0.00011865797329432217, 0.9938546179428772)]\n",
    "\n",
    "p.disconnect()"
   ]
  },
  {
   "cell_type": "code",
   "execution_count": 89,
   "metadata": {},
   "outputs": [
    {
     "name": "stdout",
     "output_type": "stream",
     "text": [
      "\n"
     ]
    }
   ],
   "source": [
    "def create_base_link(xyz_rpy):\n",
    "    col = urdfpy.Collision(name=None,origin=urdfpy.xyz_rpy_to_matrix(xyz_rpy),geometry=urdfpy.Geometry(urdfpy.Box([.67,.67,.3]),None,None,None))\n",
    "    vis = urdfpy.Visual(urdfpy.Geometry(urdfpy.Box([.67,.67,.3]),None,None,None),material=urdfpy.Material(\"red\",[0.969, 0.129, 0.122,1]))    \n",
    "    return urdfpy.Link(\"base_link\",collisions=[col],inertial=None,visuals=[vis])\n",
    "\n",
    "def create_arm_link(name,xyz_rpy):\n",
    "    col = urdfpy.Collision(name=None,origin=urdfpy.xyz_rpy_to_matrix(xyz_rpy),geometry=urdfpy.Geometry(urdfpy.Box([.67,.67,.3]),None,None,None))\n",
    "    vis = urdfpy.Visual(urdfpy.Geometry(urdfpy.Box([.67,.67,.3]),None,None,None),origin=urdfpy.xyz_rpy_to_matrix(xyz_rpy))    \n",
    "    return urdfpy.Link(name,collisions=[col],inertial=urdfpy.Inertial(1,[[0, 0, 0],[0, 0, 0],[0, 0, 0]],urdfpy.xyz_rpy_to_matrix(xyz_rpy)),visuals=[vis])\n",
    "\n",
    "def create_joint(parent,child,xyz_rpy,name,joint_type):\n",
    "    child.origin = xyz_rpy\n",
    "    return urdfpy.Joint(name,joint_type=joint_type,parent=parent.name,child=child.name,limit=urdfpy.JointLimit(1.57,1.57,-1.57,1.57),origin=xyz_rpy)\n",
    "\n",
    "def create_appendige(base,xyz_rpy,name):\n",
    "    arm1 = create_arm_link(name+\"_arm1\",[0, .34, 0,0,0,0])\n",
    "    joint_base = create_joint(base,arm1,xyz_rpy,name+\"_jointBase\",\"fixed\")\n",
    "    arm2 = create_arm_link(name+\"_arm2\",[0, .34, 0,0,0,0])\n",
    "    joint1 = create_joint(arm1,arm2,[0, .68, 0,0,0,0],name+\"_joint1\",\"revolute\")\n",
    "    return [arm1,arm2],[joint_base,joint1]\n",
    "\n",
    "base = create_base_link([0,0,0,0,0,0])\n",
    "\n",
    "print()\n",
    "\n",
    "links,joints = create_appendige(base,[0,.34,0,0,0,0],\"set1\")\n",
    "links2,joints2 = create_appendige(base,[0,-.34,0,0,0,3.141],\"set2\")\n",
    "links3,joints3 = create_appendige(base,[.34,0,0,0,0,-1.57],\"set3\")\n",
    "links4,joints4 = create_appendige(base,[-.34,0,0,0,0,1.57],\"set4\")\n",
    "\n",
    "robot = URDF(\"STARFISH2.0\",links=links+links2+links3+links4+[base], joints=joints+joints2+joints3+joints4)\n",
    "robot.save(\"Models/STARFISH2.0.urdf\")\n"
   ]
  },
  {
   "cell_type": "code",
   "execution_count": 17,
   "metadata": {},
   "outputs": [],
   "source": [
    "arm1 = create_arm_link(\"test\",[0,.34,0,0,0,0])\n",
    "base = create_base_link([0,0,0,0,0,0])\n",
    "\n",
    "# robot = URDF(\"test\",links=[base,arm1], joints=[joint1])\n",
    "# robot.save(\"robotTest.urdf\")"
   ]
  },
  {
   "cell_type": "code",
   "execution_count": 64,
   "metadata": {},
   "outputs": [],
   "source": [
    "def generateModels(amountOfModelsToBeGenerated, amountOfMotorOnEachModel):\n",
    "    for i in range(0,amountOfModelsToBeGenerated):\n",
    "        jointList = []\n",
    "        linksList = []\n",
    "        base = create_base_link([0,0,0,0,0,0])\n",
    "        linksList.append(base)\n",
    "        for j in range(amountOfMotorOnEachModel):\n",
    "            d = 0\n",
    "            x = 0\n",
    "            y = 0\n",
    "            z = 0\n",
    "            while(d<=.5):\n",
    "                x = r.randrange(-50,50,1)/100\n",
    "                y = r.randrange(-50,50,1)/100\n",
    "                z = r.randrange(-10,10,1)/100\n",
    "                # print(x,\" \",y,\" \",z)\n",
    "                d = math.sqrt((x**2)+(y**2)+(z**2))\n",
    "\n",
    "            yaw = 0\n",
    "            roll = 0\n",
    "            pitch = 0\n",
    "\n",
    "            yaw = (r.randrange(100,200,1)/100)\n",
    "            roll = (r.randrange(-100,100,1)/100)\n",
    "            pitch = 0\n",
    "\n",
    "            if(x>0):\n",
    "                yaw = -yaw \n",
    "                roll = -roll\n",
    "            \n",
    "            # orientationVector = np.asarray([0,0,0])\n",
    "            # while (np.dot(orientationVector, [0,0,0])>0): # not sure if this works\n",
    "            #     pitch = r.uniform(-3.14159,3.14159) \n",
    "            #     yaw = r.uniform(-3.14159,3.14159) \n",
    "            #     roll = r.uniform(-3.14159,3.14159)\n",
    "            #     orientationVector = np.asarray([pitch,yaw,roll])\n",
    "\n",
    "            links,joints = create_appendige(base,[x,y,z,roll,pitch,yaw],\"arm_\"+str(j))\n",
    "            jointList.extend(joints)\n",
    "            linksList.extend(links)\n",
    "        robot = URDF(\"Model_\"+str(i),links=linksList, joints=jointList)\n",
    "        robot.save(\"Models/Model_\"+str(i)+\".urdf\")\n",
    "# generateModels(100,2)"
   ]
  },
  {
   "cell_type": "code",
   "execution_count": 106,
   "metadata": {},
   "outputs": [
    {
     "data": {
      "text/plain": [
       "0.6875925415201581"
      ]
     },
     "execution_count": 106,
     "metadata": {},
     "output_type": "execute_result"
    }
   ],
   "source": [
    "def accuracyOfModel(amountOfMotors, modelNameTrue, modelNamePredicted):\n",
    "    model = URDF.load(modelNameTrue)\n",
    "    listTrue = []\n",
    "    for j in range(0, amountOfMotors*2,2):\n",
    "        # print(list(urdfpy.matrix_to_xyz_rpy(model.joints[j].origin))) # get these values then add or subtract random values 100 times and see results\n",
    "        listTrue.append(list(urdfpy.matrix_to_xyz_rpy(model.joints[j].origin)))\n",
    "\n",
    "    model = URDF.load(modelNamePredicted)\n",
    "    PredictedJoints = []\n",
    "    for j in range(0, amountOfMotors*2,2):\n",
    "        # print(list(urdfpy.matrix_to_xyz_rpy(model.joints[j].origin))) # get these values then add or subtract random values 100 times and see results\n",
    "        PredictedJoints.append(list(urdfpy.matrix_to_xyz_rpy(model.joints[j].origin)))\n",
    "\n",
    "    mse = []\n",
    "    for k in range(0,len(listTrue)):\n",
    "        # for l in range(0, len(listTrue[k])):\n",
    "        mse.append(cosine_similarity(np.array(listTrue[k]).reshape(1,-1),np.array(PredictedJoints[k]).reshape(1,-1))[0,0])\n",
    "    # mse = sum(mse)/2.0\n",
    "\n",
    "    return sum(mse)/float(amountOfMotors)\n",
    "\n",
    "accuracyOfModel(2, \"STARFISH2.0.urdf\",\"Models/Model_76.urdf\")\n"
   ]
  },
  {
   "cell_type": "code",
   "execution_count": 115,
   "metadata": {},
   "outputs": [
    {
     "data": {
      "text/plain": [
       "['Model_14', 0.0009757795869712971]"
      ]
     },
     "execution_count": 115,
     "metadata": {},
     "output_type": "execute_result"
    }
   ],
   "source": [
    "def simulateModels(amountToSimulate, compareOrientations, motoramount):\n",
    "    bestList = []\n",
    "    for i in range(0,amountToSimulate):\n",
    "        bestList.append([\"Model_\"+str(i)])\n",
    "    # print(bestList)\n",
    "    \n",
    "    currentBest = [\"na\",100]\n",
    "    for model in bestList:\n",
    "        best2 = [[],[],[],[]] # this needs to be dynamic not good rn\n",
    "        auxCounter = 0\n",
    "        for i in range(0,motoramount*2,2):\n",
    "            physicsClient = p.connect(p.DIRECT)# p.DIRECT for non-graphical version\n",
    "            p.setAdditionalSearchPath(pybullet_data.getDataPath()) # optionally\n",
    "            p.setGravity(0,0,-9.8)   \n",
    "            planeId = p.loadURDF('plane.urdf')\n",
    "            cubeStartPos = [0,0,1]\n",
    "            cubeStartOrientation = p.getQuaternionFromEuler([0,0,0])\n",
    "            boxId = p.loadURDF('Models/'+str(model[0])+'.urdf',cubeStartPos, cubeStartOrientation)\n",
    "            # boxId = p.loadURDF('starfish.urdf',cubeStartPos, cubeStartOrientation)\n",
    "            # p.setJointMotorControl2(boxId,0,p.POSITION_CONTROL,-1)\n",
    "            # p.setJointMotorControl2(boxId,1,p.POSITION_CONTROL,-1\n",
    "            p.setJointMotorControl2(boxId,(i+1),p.POSITION_CONTROL,-1)\n",
    "            cubePos, cubeOrn = p.getBasePositionAndOrientation(boxId)\n",
    "            # print(\"start\")\n",
    "            # print(cubePos,cubeOrn)\n",
    "            # p.resetDebugVisualizerCamera( cameraDistance=3.5, cameraYaw=30, cameraPitch=52, cameraTargetPosition=cubePos)\n",
    "            for i in range (300):\n",
    "                p.stepSimulation()\n",
    "                # time.sleep(1./200.)\n",
    "            cubePos, cubeOrn = p.getBasePositionAndOrientation(boxId)\n",
    "\n",
    "            mean = mean_squared_error(compareOrientations[auxCounter],list(cubeOrn))\n",
    "    \n",
    "            best2[auxCounter] = mean\n",
    "            # print(cubePos,cubeOrn\n",
    "            # print(mean, model[0])\n",
    "            \n",
    "            p.disconnect()  \n",
    "            auxCounter+=1\n",
    "        # print(best2)\n",
    "        if(sum(best2)<currentBest[1]):\n",
    "            currentBest[1] = sum(best2)\n",
    "            currentBest[0] = model[0]\n",
    "            # currentBest[2] = accuracyOfModel(2, \"STARFISH2.0.urdf\",\"Models/\"+model[0]+\".urdf\")\n",
    "\n",
    "    return currentBest\n",
    "\n",
    "simulateModels(500, [[0.11071366557071198, 1.4306856382682968e-05, 0.00012585081957326537, 0.9938523372276092],[-0.1107156715211334, 5.1359029875874616e-05, 0.00012322408656520903, 0.9938521128707727],[0.00010303414843149941, -0.1107057358071606, 0.00013083062332979652, 0.9938532146784591],[7.442984885374358e-05, 0.11069317401764413, 0.00011865797329432217, 0.9938546179428772]],4)"
   ]
  },
  {
   "cell_type": "code",
   "execution_count": 114,
   "metadata": {},
   "outputs": [],
   "source": [
    "def generateModelsStep(amountOfModelsToBeGenerated, amountOfMotorOnEachModel, randomConst, randomConst2, randomConst3):\n",
    "    pool = [[0,.34,0],[.34,.34,0],[-.34,-.34,0],[-.34,0,0],[.34,0,0],[0,-.34,0],[.34,-.34,0],[-.34,.34,0]]\n",
    "    \n",
    "    for i in range(0,amountOfModelsToBeGenerated):  \n",
    "        jointList = []\n",
    "        linksList = []\n",
    "        base = create_base_link([0,0,0,0,0,0])\n",
    "        linksList.append(base)\n",
    "        mountTaken = [] \n",
    "        for j in range(amountOfMotorOnEachModel):\n",
    "            x = 0\n",
    "            y = 0\n",
    "            z = 0\n",
    "            currentMount = pool[r.randrange(0,len(pool))]\n",
    "            while((currentMount in mountTaken)):\n",
    "                currentMount = pool[r.randrange(0,len(pool))]\n",
    "\n",
    "            mountTaken.append(currentMount)\n",
    "\n",
    "            x= currentMount[0]\n",
    "            y= currentMount[1] #apply noise\n",
    "            z = 0 # r.randrange(-10,10,1)/100\n",
    "\n",
    "            yaw = 0\n",
    "            pitch = 0\n",
    "            roll = 0\n",
    "            \n",
    "            if(y>0 and x>0):\n",
    "                yaw = (r.randrange(-157,314,1)/100) \n",
    "\n",
    "            elif(y<0 and x<0):\n",
    "                yaw = (r.randrange(0,157,1)/100)\n",
    "\n",
    "            elif(y<0 and x>0):\n",
    "                yaw = (r.randrange(0,157,1)/100)\n",
    "\n",
    "            elif(y>0 and x<0):\n",
    "                yaw = (r.randrange(157,314,1)/100)\n",
    "\n",
    "            elif(y>0 and x==0):\n",
    "                yaw = (r.randrange(-100,100,1)/100)\n",
    "\n",
    "            elif(y==0 and x>0):\n",
    "                yaw = (r.randrange(-100,-200,-1)/100)\n",
    "\n",
    "            elif(y<0 and x==0):\n",
    "                yaw = (r.randrange(214,414,1)/100)\n",
    "\n",
    "            elif(y==0 and x<0):\n",
    "                yaw = (r.randrange(100,200,1)/100)\n",
    "            \n",
    "\n",
    "            if (randomConst!=0 and randomConst2!=0 and randomConst3!=0 ):\n",
    "                yaw = yaw + r.randrange(-randomConst,randomConst,10)/1000\n",
    "                pitch = pitch + r.randrange(-randomConst2,randomConst2,10)/1000\n",
    "                roll = roll + r.randrange(-randomConst3,randomConst3,10)/1000\n",
    "            \n",
    "            # orientationVector = np.asarray([0,0,0])\n",
    "            # while (np.dot(orientationVector, [0,0,0])>0): # not sure if this works\n",
    "            #     pitch = r.uniform(-3.14159,3.14159) \n",
    "            #     yaw = r.uniform(-3.14159,3.14159) \n",
    "            #     roll = r.uniform(-3.14159,3.14159)\n",
    "            #     orientationVector = np.asarray([pitch,yaw,roll])\n",
    "\n",
    "            links,joints = create_appendige(base,[x,y,z,roll,pitch,yaw],\"arm_\"+str(j))\n",
    "            jointList.extend(joints)\n",
    "            linksList.extend(links)\n",
    "        robot = URDF(\"Model_\"+str(i),links=linksList, joints=jointList)\n",
    "        robot.save(\"Models/Model_\"+str(i)+\".urdf\")\n",
    "\n",
    "generateModelsStep(5,4,0,0,0)"
   ]
  },
  {
   "cell_type": "code",
   "execution_count": 113,
   "metadata": {},
   "outputs": [
    {
     "name": "stdout",
     "output_type": "stream",
     "text": [
      "MSE and pearson correlation for range: +/- 0.0\n",
      "0.004127861114511311\n",
      "MSE and pearson correlation for range: +/- 0.314\n",
      "0.007968522757682122\n",
      "MSE and pearson correlation for range: +/- 0.628\n",
      "0.011480300877015234\n",
      "MSE and pearson correlation for range: +/- 0.942\n",
      "0.013044922825051545\n",
      "MSE and pearson correlation for range: +/- 1.256\n",
      "0.014642119206336898\n",
      "MSE and pearson correlation for range: +/- 1.57\n",
      "0.01106454982095082\n"
     ]
    }
   ],
   "source": [
    "for j in np.arange(0, 1.57 + .314, .314):\n",
    "    output = 0\n",
    "    for i in range(1,11):\n",
    "        # print(\"iteration:\",i)\n",
    "        # print(\"current average MSE:\",output[0]/i)\n",
    "        # print(\"current average correlation:\",output[1]/i)\n",
    "        generateModelsStep(100,4,j*1000,j*1000,j*1000)\n",
    "        bestModel = simulateModels(100, [[0.11071366557071198, 1.4306856382682968e-05, 0.00012585081957326537, 0.9938523372276092],[-0.1107156715211334, 5.1359029875874616e-05, 0.00012322408656520903, 0.9938521128707727],[0.00010303414843149941, -0.1107057358071606, 0.00013083062332979652, 0.9938532146784591],[7.442984885374358e-05, 0.11069317401764413, 0.00011865797329432217, 0.9938546179428772]],4)\n",
    "        output += bestModel[1]\n",
    "    print(\"MSE and pearson correlation for range: +/-\",j)\n",
    "    print(output/10.0)"
   ]
  },
  {
   "cell_type": "markdown",
   "metadata": {},
   "source": [
    "https://urdfpy.readthedocs.io/en/latest/generated/urdfpy.Link.html#urdfpy.Link\n",
    "\n",
    "https://urdfpy.readthedocs.io/en/latest/examples/index.html#loading-from-a-file\n"
   ]
  }
 ],
 "metadata": {
  "kernelspec": {
   "display_name": "Python 3",
   "language": "python",
   "name": "python3"
  },
  "language_info": {
   "codemirror_mode": {
    "name": "ipython",
    "version": 3
   },
   "file_extension": ".py",
   "mimetype": "text/x-python",
   "name": "python",
   "nbconvert_exporter": "python",
   "pygments_lexer": "ipython3",
   "version": "3.8.0"
  }
 },
 "nbformat": 4,
 "nbformat_minor": 2
}
