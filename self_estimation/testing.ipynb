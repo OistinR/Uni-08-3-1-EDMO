{
 "cells": [
  {
   "cell_type": "markdown",
   "metadata": {},
   "source": [
    "taken from :https://medium.com/@chand.shelvin/pybullet-getting-started-a068a0e3d492"
   ]
  },
  {
   "cell_type": "code",
   "execution_count": 1,
   "metadata": {},
   "outputs": [],
   "source": [
    "import pybullet as p\n",
    "import time\n",
    "import pybullet_data"
   ]
  },
  {
   "cell_type": "code",
   "execution_count": 12,
   "metadata": {},
   "outputs": [],
   "source": [
    "import random as r\n",
    "from urdfpy import URDF\n",
    "import urdfpy"
   ]
  },
  {
   "cell_type": "code",
   "execution_count": 3,
   "metadata": {},
   "outputs": [
    {
     "name": "stdout",
     "output_type": "stream",
     "text": [
      "start\n",
      "(0.0, 0.0, 1.0) (0.0, 0.0, 0.0, 1.0)\n",
      "(-0.28889405223964043, 0.08681235379011518, 0.5599866909296226) (-0.008975016620745343, -0.48524481263436564, -0.20805134753088844, 0.8492182038078778)\n"
     ]
    }
   ],
   "source": [
    "\n",
    "for i in range(0,1,1):\n",
    "   physicsClient = p.connect(p.GUI)# p.DIRECT for non-graphical version\n",
    "   p.setAdditionalSearchPath(pybullet_data.getDataPath()) # optionally\n",
    "   p.setGravity(0,0,-9.8)   \n",
    "   planeId = p.loadURDF('plane.urdf')\n",
    "   cubeStartPos = [0,0,1]\n",
    "   cubeStartOrientation = p.getQuaternionFromEuler([0,0,0])\n",
    "   boxId = p.loadURDF('robot.urdf',cubeStartPos, cubeStartOrientation)\n",
    "   p.setJointMotorControl2(boxId,0,p.POSITION_CONTROL,-.7)\n",
    "   cubePos, cubeOrn = p.getBasePositionAndOrientation(boxId)\n",
    "   print(\"start\")\n",
    "   print(cubePos,cubeOrn)\n",
    "\n",
    "   p.resetDebugVisualizerCamera( cameraDistance=3.5, cameraYaw=30, cameraPitch=52, cameraTargetPosition=cubePos)\n",
    "\n",
    "   for i in range (300):\n",
    "      p.stepSimulation()\n",
    "      time.sleep(1./200.)\n",
    "\n",
    "   cubePos, cubeOrn = p.getBasePositionAndOrientation(boxId)\n",
    "   print(cubePos,cubeOrn)\n",
    " "
   ]
  },
  {
   "cell_type": "code",
   "execution_count": 4,
   "metadata": {},
   "outputs": [],
   "source": [
    "p.disconnect()"
   ]
  },
  {
   "cell_type": "code",
   "execution_count": 14,
   "metadata": {},
   "outputs": [],
   "source": [
    "link1 = urdfpy.Link(\"link1\",None,None,None)\n",
    "\n",
    "robot = URDF(\"test\",links=[link1])\n",
    "\n",
    "robot.save(\"robotTest.urdf\")"
   ]
  },
  {
   "cell_type": "markdown",
   "metadata": {},
   "source": [
    "http://www.mymodelrobot.appspot.com/5674976526991360\n",
    "\n",
    "https://wiki.ros.org/urdf/XML/link\n",
    "\n",
    "https://www.programcreek.com/python/example/122099/pybullet.setJointMotorControl2"
   ]
  }
 ],
 "metadata": {
  "kernelspec": {
   "display_name": "Python 3",
   "language": "python",
   "name": "python3"
  },
  "language_info": {
   "codemirror_mode": {
    "name": "ipython",
    "version": 3
   },
   "file_extension": ".py",
   "mimetype": "text/x-python",
   "name": "python",
   "nbconvert_exporter": "python",
   "pygments_lexer": "ipython3",
   "version": "3.8.0"
  }
 },
 "nbformat": 4,
 "nbformat_minor": 2
}
