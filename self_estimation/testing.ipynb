{
 "cells": [
  {
   "cell_type": "markdown",
   "metadata": {},
   "source": [
    "adapted from :https://medium.com/@chand.shelvin/pybullet-getting-started-a068a0e3d492"
   ]
  },
  {
   "cell_type": "markdown",
   "metadata": {},
   "source": [
    "http://www.mymodelrobot.appspot.com/5674976526991360\n",
    "\n",
    "https://wiki.ros.org/urdf/XML/link\n",
    "\n",
    "https://www.programcreek.com/python/example/122099/pybullet.setJointMotorControl2"
   ]
  },
  {
   "cell_type": "code",
   "execution_count": 24,
   "metadata": {},
   "outputs": [],
   "source": [
    "import pybullet as p\n",
    "import time\n",
    "import pybullet_data\n",
    "import math"
   ]
  },
  {
   "cell_type": "code",
   "execution_count": 4,
   "metadata": {},
   "outputs": [],
   "source": [
    "import random as r\n",
    "from urdfpy import URDF\n",
    "import urdfpy\n",
    "import numpy as np"
   ]
  },
  {
   "cell_type": "code",
   "execution_count": 36,
   "metadata": {},
   "outputs": [
    {
     "name": "stdout",
     "output_type": "stream",
     "text": [
      "start\n",
      "(0.0, 0.0, 1.0) (0.0, 0.0, 0.0, 1.0)\n",
      "(-0.00023944807718888006, -0.014229996925550797, 0.25331723973251863) (0.050204083161644035, -5.386066383554456e-06, -0.00011375290004178384, 0.9987389734385891)\n"
     ]
    }
   ],
   "source": [
    "physicsClient = p.connect(p.GUI)# p.DIRECT for non-graphical version\n",
    "p.setAdditionalSearchPath(pybullet_data.getDataPath()) # optionally\n",
    "p.setGravity(0,0,-9.8)   \n",
    "planeId = p.loadURDF('plane.urdf')\n",
    "cubeStartPos = [0,0,1]\n",
    "cubeStartOrientation = p.getQuaternionFromEuler([0,0,0])\n",
    "boxId = p.loadURDF('starfish.urdf',cubeStartPos, cubeStartOrientation)\n",
    "p.setJointMotorControl2(boxId,0,p.POSITION_CONTROL,-1)\n",
    "p.setJointMotorControl2(boxId,1,p.POSITION_CONTROL,-1)\n",
    "p.setJointMotorControl2(boxId,2,p.POSITION_CONTROL,1)\n",
    "cubePos, cubeOrn = p.getBasePositionAndOrientation(boxId)\n",
    "print(\"start\")\n",
    "print(cubePos,cubeOrn)\n",
    "p.resetDebugVisualizerCamera( cameraDistance=3.5, cameraYaw=30, cameraPitch=52, cameraTargetPosition=cubePos)\n",
    "for i in range (300):\n",
    "   p.stepSimulation()\n",
    "   time.sleep(1./200.)\n",
    "cubePos, cubeOrn = p.getBasePositionAndOrientation(boxId)\n",
    "print(cubePos,cubeOrn)\n",
    " "
   ]
  },
  {
   "cell_type": "code",
   "execution_count": 37,
   "metadata": {},
   "outputs": [],
   "source": [
    "p.disconnect()"
   ]
  },
  {
   "cell_type": "code",
   "execution_count": 16,
   "metadata": {},
   "outputs": [
    {
     "name": "stdout",
     "output_type": "stream",
     "text": [
      "\n"
     ]
    }
   ],
   "source": [
    "def create_base_link(xyz_rpy):\n",
    "    col = urdfpy.Collision(name=None,origin=urdfpy.xyz_rpy_to_matrix(xyz_rpy),geometry=urdfpy.Geometry(urdfpy.Box([.67,.67,.3]),None,None,None))\n",
    "    vis = urdfpy.Visual(urdfpy.Geometry(urdfpy.Box([.67,.67,.3]),None,None,None),material=urdfpy.Material(\"red\",[0.969, 0.129, 0.122,1]))    \n",
    "    return urdfpy.Link(\"base_link\",collisions=[col],inertial=None,visuals=[vis])\n",
    "\n",
    "def create_arm_link(name,xyz_rpy):\n",
    "    col = urdfpy.Collision(name=None,origin=urdfpy.xyz_rpy_to_matrix(xyz_rpy),geometry=urdfpy.Geometry(urdfpy.Box([.67,.67,.3]),None,None,None))\n",
    "    vis = urdfpy.Visual(urdfpy.Geometry(urdfpy.Box([.67,.67,.3]),None,None,None),origin=urdfpy.xyz_rpy_to_matrix(xyz_rpy))    \n",
    "    return urdfpy.Link(name,collisions=[col],inertial=urdfpy.Inertial(1,[[0, 0, 0],[0, 0, 0],[0, 0, 0]],urdfpy.xyz_rpy_to_matrix(xyz_rpy)),visuals=[vis])\n",
    "\n",
    "def create_joint(parent,child,xyz_rpy,name,joint_type):\n",
    "    child.origin = xyz_rpy\n",
    "    return urdfpy.Joint(name,joint_type=joint_type,parent=parent.name,child=child.name,limit=urdfpy.JointLimit(1,1,-1,1),origin=xyz_rpy)\n",
    "\n",
    "def create_appendige(base,xyz_rpy,name):\n",
    "    arm1 = create_arm_link(name+\"_arm1\",[0, .34, 0,0,0,0])\n",
    "    joint_base = create_joint(base,arm1,xyz_rpy,name+\"_jointBase\",\"fixed\")\n",
    "    arm2 = create_arm_link(name+\"_arm2\",[0, .34, 0,0,0,0])\n",
    "    joint1 = create_joint(arm1,arm2,[0, .68, 0,0,0,0],name+\"_joint1\",\"revolute\")\n",
    "    return [arm1,arm2],[joint_base,joint1]\n",
    "\n",
    "base = create_base_link([0,0,0,0,0,0])\n",
    "\n",
    "print()\n",
    "\n",
    "links,joints = create_appendige(base,[0,.34,0,1,0,0],\"TEST\")\n",
    "\n",
    "links.append(base)\n",
    "\n",
    "robot = URDF(\"Model_test\",links=links, joints=joints)\n",
    "robot.save(\"Models/Model_test.urdf\")\n"
   ]
  },
  {
   "cell_type": "code",
   "execution_count": 17,
   "metadata": {},
   "outputs": [],
   "source": [
    "arm1 = create_arm_link(\"test\",[0,.34,0,0,0,0])\n",
    "base = create_base_link([0,0,0,0,0,0])\n",
    "\n",
    "\n",
    "# robot = URDF(\"test\",links=[base,arm1], joints=[joint1])\n",
    "\n",
    "# robot.save(\"robotTest.urdf\")"
   ]
  },
  {
   "cell_type": "code",
   "execution_count": 62,
   "metadata": {},
   "outputs": [],
   "source": [
    "def generateModels(amountOfModelsToBeGenerated, amountOfMotorOnEachModel):\n",
    "    for i in range(0,amountOfModelsToBeGenerated):\n",
    "        jointList = []\n",
    "        linksList = []\n",
    "        base = create_base_link([0,0,0,0,0,0])\n",
    "        linksList.append(base)\n",
    "        for j in range(amountOfMotorOnEachModel):\n",
    "            d= 0\n",
    "            x = 0\n",
    "            y = 0\n",
    "            z = 0\n",
    "            while(d<=.4):\n",
    "                x = r.uniform(-1,1) \n",
    "                y = r.uniform(-1,1)\n",
    "                z = r.uniform(-.1,.1)\n",
    "                d = math.sqrt((x**2)+(y**2)+(z**2))\n",
    "\n",
    "            orientationVector = np.asarray([0,0,0])\n",
    "            pitch = r.uniform(-3.14159,3.14159) \n",
    "            yaw = r.uniform(-3.14159,3.14159) \n",
    "            roll = r.uniform(-3.14159,3.14159)\n",
    "\n",
    "            while (np.dot(orientationVector, [0,0,0])>0):\n",
    "                pitch = r.uniform(-3.14159,3.14159) \n",
    "                yaw = r.uniform(-3.14159,3.14159) \n",
    "                roll = r.uniform(-3.14159,3.14159)\n",
    "                orientationVector = np.asarray([pitch,yaw,roll])\n",
    "\n",
    "\n",
    "            links,joints = create_appendige(base,[x,y,z,pitch,yaw,roll],\"arm_\"+str(j))\n",
    "            jointList.extend(joints)\n",
    "            linksList.extend(links)\n",
    "        robot = URDF(\"Model_\"+str(i),links=linksList, joints=jointList)\n",
    "        robot.save(\"Models/Model_\"+str(i)+\".urdf\")\n",
    "generateModels(1,4)"
   ]
  },
  {
   "cell_type": "code",
   "execution_count": 47,
   "metadata": {},
   "outputs": [
    {
     "ename": "error",
     "evalue": "Cannot load URDF file.",
     "output_type": "error",
     "traceback": [
      "\u001b[1;31m---------------------------------------------------------------------------\u001b[0m",
      "\u001b[1;31merror\u001b[0m                                     Traceback (most recent call last)",
      "\u001b[1;32mc:\\Users\\Avita\\IdeaProjects\\Github\\Uni-08-3-1-EDMO\\self_estimation\\testing.ipynb Cell 10\u001b[0m line \u001b[0;36m3\n\u001b[0;32m     <a href='vscode-notebook-cell:/c%3A/Users/Avita/IdeaProjects/Github/Uni-08-3-1-EDMO/self_estimation/testing.ipynb#X12sZmlsZQ%3D%3D?line=29'>30</a>\u001b[0m     \u001b[39mprint\u001b[39m(best)\n\u001b[0;32m     <a href='vscode-notebook-cell:/c%3A/Users/Avita/IdeaProjects/Github/Uni-08-3-1-EDMO/self_estimation/testing.ipynb#X12sZmlsZQ%3D%3D?line=30'>31</a>\u001b[0m     \u001b[39mreturn\u001b[39;00m best\n\u001b[1;32m---> <a href='vscode-notebook-cell:/c%3A/Users/Avita/IdeaProjects/Github/Uni-08-3-1-EDMO/self_estimation/testing.ipynb#X12sZmlsZQ%3D%3D?line=32'>33</a>\u001b[0m simulateModels(\u001b[39m100\u001b[39;49m, [\u001b[39m0.050204083161644035\u001b[39;49m, \u001b[39m-\u001b[39;49m\u001b[39m5.386066383554456e-06\u001b[39;49m, \u001b[39m-\u001b[39;49m\u001b[39m0.00011375290004178384\u001b[39;49m, \u001b[39m0.9987389734385891\u001b[39;49m])\n",
      "\u001b[1;32mc:\\Users\\Avita\\IdeaProjects\\Github\\Uni-08-3-1-EDMO\\self_estimation\\testing.ipynb Cell 10\u001b[0m line \u001b[0;36m1\n\u001b[0;32m      <a href='vscode-notebook-cell:/c%3A/Users/Avita/IdeaProjects/Github/Uni-08-3-1-EDMO/self_estimation/testing.ipynb#X12sZmlsZQ%3D%3D?line=7'>8</a>\u001b[0m cubeStartPos \u001b[39m=\u001b[39m [\u001b[39m0\u001b[39m,\u001b[39m0\u001b[39m,\u001b[39m1\u001b[39m]\n\u001b[0;32m      <a href='vscode-notebook-cell:/c%3A/Users/Avita/IdeaProjects/Github/Uni-08-3-1-EDMO/self_estimation/testing.ipynb#X12sZmlsZQ%3D%3D?line=8'>9</a>\u001b[0m cubeStartOrientation \u001b[39m=\u001b[39m p\u001b[39m.\u001b[39mgetQuaternionFromEuler([\u001b[39m0\u001b[39m,\u001b[39m0\u001b[39m,\u001b[39m0\u001b[39m])\n\u001b[1;32m---> <a href='vscode-notebook-cell:/c%3A/Users/Avita/IdeaProjects/Github/Uni-08-3-1-EDMO/self_estimation/testing.ipynb#X12sZmlsZQ%3D%3D?line=9'>10</a>\u001b[0m boxId \u001b[39m=\u001b[39m p\u001b[39m.\u001b[39;49mloadURDF(\u001b[39m'\u001b[39;49m\u001b[39mModels/Model_\u001b[39;49m\u001b[39m'\u001b[39;49m\u001b[39m+\u001b[39;49m\u001b[39mstr\u001b[39;49m(i)\u001b[39m+\u001b[39;49m\u001b[39m'\u001b[39;49m\u001b[39m.urdf\u001b[39;49m\u001b[39m'\u001b[39;49m,cubeStartPos, cubeStartOrientation)\n\u001b[0;32m     <a href='vscode-notebook-cell:/c%3A/Users/Avita/IdeaProjects/Github/Uni-08-3-1-EDMO/self_estimation/testing.ipynb#X12sZmlsZQ%3D%3D?line=10'>11</a>\u001b[0m p\u001b[39m.\u001b[39msetJointMotorControl2(boxId,\u001b[39m0\u001b[39m,p\u001b[39m.\u001b[39mPOSITION_CONTROL,\u001b[39m1\u001b[39m)\n\u001b[0;32m     <a href='vscode-notebook-cell:/c%3A/Users/Avita/IdeaProjects/Github/Uni-08-3-1-EDMO/self_estimation/testing.ipynb#X12sZmlsZQ%3D%3D?line=11'>12</a>\u001b[0m p\u001b[39m.\u001b[39msetJointMotorControl2(boxId,\u001b[39m1\u001b[39m,p\u001b[39m.\u001b[39mPOSITION_CONTROL,\u001b[39m-\u001b[39m\u001b[39m1\u001b[39m)\n",
      "\u001b[1;31merror\u001b[0m: Cannot load URDF file."
     ]
    }
   ],
   "source": [
    "def simulateModels(amountToSimulate, goalOrientation):\n",
    "    best = [\"model-1\",100]\n",
    "    for i in range(0,amountToSimulate):\n",
    "        physicsClient = p.connect(p.DIRECT)# p.DIRECT for non-graphical version\n",
    "        p.setAdditionalSearchPath(pybullet_data.getDataPath()) # optionally\n",
    "        p.setGravity(0,0,-9.8)   \n",
    "        planeId = p.loadURDF('plane.urdf')\n",
    "        cubeStartPos = [0,0,1]\n",
    "        cubeStartOrientation = p.getQuaternionFromEuler([0,0,0])\n",
    "        boxId = p.loadURDF('Models/Model_'+str(i)+'.urdf',cubeStartPos, cubeStartOrientation)\n",
    "        p.setJointMotorControl2(boxId,0,p.POSITION_CONTROL,1)\n",
    "        p.setJointMotorControl2(boxId,1,p.POSITION_CONTROL,-1)\n",
    "        p.setJointMotorControl2(boxId,2,p.POSITION_CONTROL,1)\n",
    "        cubePos, cubeOrn = p.getBasePositionAndOrientation(boxId)\n",
    "        # print(\"start\")\n",
    "        # print(cubePos,cubeOrn)\n",
    "        # p.resetDebugVisualizerCamera( cameraDistance=3.5, cameraYaw=30, cameraPitch=52, cameraTargetPosition=cubePos)\n",
    "        for k in range (300):\n",
    "            p.stepSimulation()\n",
    "        #     time.sleep(1./200.)\n",
    "        cubePos, cubeOrn = p.getBasePositionAndOrientation(boxId)\n",
    "        # print(\"Model_\"+str(i))\n",
    "        # print(np.mean([abs(a - b) for a, b in zip(list(cubeOrn), goalOrientation)]))\n",
    "        mean = np.mean([abs(a - b) for a, b in zip(list(cubeOrn), goalOrientation)])\n",
    "        if (mean<best[1]):\n",
    "            best[1] = mean\n",
    "            best[0] = \"Model_\"+str(i)\n",
    "        p.disconnect()\n",
    "        # print(cubePos,list(cubeOrn))\n",
    "    print(best)\n",
    "    return best\n",
    "\n",
    "simulateModels(100, [0.050204083161644035, -5.386066383554456e-06, -0.00011375290004178384, 0.9987389734385891])"
   ]
  },
  {
   "cell_type": "markdown",
   "metadata": {},
   "source": [
    "https://urdfpy.readthedocs.io/en/latest/generated/urdfpy.Link.html#urdfpy.Link\n",
    "\n",
    "https://urdfpy.readthedocs.io/en/latest/examples/index.html#loading-from-a-file\n"
   ]
  }
 ],
 "metadata": {
  "kernelspec": {
   "display_name": "Python 3",
   "language": "python",
   "name": "python3"
  },
  "language_info": {
   "codemirror_mode": {
    "name": "ipython",
    "version": 3
   },
   "file_extension": ".py",
   "mimetype": "text/x-python",
   "name": "python",
   "nbconvert_exporter": "python",
   "pygments_lexer": "ipython3",
   "version": "3.8.0"
  }
 },
 "nbformat": 4,
 "nbformat_minor": 2
}
